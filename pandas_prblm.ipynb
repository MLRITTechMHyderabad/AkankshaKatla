{
 "cells": [
  {
   "cell_type": "code",
   "execution_count": 1,
   "id": "d4006c13",
   "metadata": {},
   "outputs": [],
   "source": [
    "import pandas as pd"
   ]
  },
  {
   "cell_type": "code",
   "execution_count": 18,
   "id": "8288bcab",
   "metadata": {
    "scrolled": true
   },
   "outputs": [
    {
     "name": "stdout",
     "output_type": "stream",
     "text": [
      "Department\n",
      "Finance    82500.000000\n",
      "HR         71666.666667\n",
      "IT         65666.666667\n",
      "Name: Salary, dtype: float64\n",
      "  Employee Department  Age  Salary  Experience\n",
      "5    Frank    Finance   45   90000          20\n",
      "7   Hannah         HR   38   85000          12\n",
      "1      Bob         IT   32   70000           7\n",
      "employees have more than 5 years of experience: \n",
      "   Employee Department  Age  Salary  Experience\n",
      "1      Bob         IT   32   70000           7\n",
      "3    David         HR   41   80000          15\n",
      "4     Emma    Finance   37   75000          10\n",
      "5    Frank    Finance   45   90000          20\n",
      "7   Hannah         HR   38   85000          12\n",
      "total count: 5\n",
      "DataFrame with 'Seniority':\n",
      "   Employee  Experience  Seniority\n",
      "0    Alice           2     Junior\n",
      "1      Bob           7  Mid-Level\n",
      "2  Charlie           5  Mid-Level\n",
      "3    David          15     Senior\n",
      "4     Emma          10  Mid-Level\n",
      "5    Frank          20     Senior\n",
      "6    Grace           3     Junior\n",
      "7   Hannah          12     Senior\n",
      "  Employee  Salary\n",
      "1      Bob   70000\n",
      "2  Charlie   65000\n",
      "6    Grace   62000\n"
     ]
    }
   ],
   "source": [
    "# : Employee Salary Insights \n",
    "data = {\n",
    "    'Employee': ['Alice', 'Bob', 'Charlie', 'David', 'Emma', 'Frank', 'Grace', 'Hannah'],\n",
    "    'Department': ['HR', 'IT', 'IT', 'HR', 'Finance', 'Finance', 'IT', 'HR'],\n",
    "    'Age': [25, 32, 29, 41, 37, 45, 26, 38],\n",
    "    'Salary': [50000, 70000, 65000, 80000, 75000, 90000, 62000, 85000],\n",
    "    'Experience': [2, 7, 5, 15, 10, 20, 3, 12]\n",
    "}\n",
    "df = pd.DataFrame(data)\n",
    "avg_salary = df.groupby('Department')['Salary'].mean()\n",
    "print(avg_salary)\n",
    "highest_paid = df.loc[df.groupby('Department')['Salary'].idxmax()]\n",
    "print(highest_paid)\n",
    "\n",
    "exp_employees = df[(df['Experience'] > 5) & (df['Salary'] > 65000)]\n",
    "count_exp_emp = len(exp_employees)\n",
    "print(\"employees have more than 5 years of experience: \\n\",exp_employees,)\n",
    "print(\"total count:\",count_exp_emp)\n",
    "\n",
    "def get_seniority(exp):\n",
    "    if exp < 5:\n",
    "        return \"Junior\"\n",
    "    elif 5 <= exp <= 10:\n",
    "        return \"Mid-Level\"\n",
    "    else:\n",
    "        return \"Senior\"\n",
    "\n",
    "df['Seniority'] = df['Experience'].apply(get_seniority)\n",
    "print(\"DataFrame with 'Seniority':\\n\", df[['Employee', 'Experience', 'Seniority']])\n",
    "\n",
    "sort_emp = df[df['Department'] == 'IT'].sort_values(by =\"Salary\", ascending = False)\n",
    "print(sort_emp[['Employee','Salary']])"
   ]
  },
  {
   "cell_type": "code",
   "execution_count": 34,
   "id": "f196409d",
   "metadata": {},
   "outputs": [
    {
     "name": "stdout",
     "output_type": "stream",
     "text": [
      "Subject\n",
      "Math       86.25\n",
      "Science    70.00\n",
      "Name: Marks, dtype: float64\n",
      "Students with Marks >85 and Attendance <90%:\n",
      " Empty DataFrame\n",
      "Columns: [Student, Subject, Marks, Attendance]\n",
      "Index: []\n",
      "DataFrame with Grade:\n",
      "   Student  Marks Grade\n",
      "0    John     85     B\n",
      "1    Sara     72     C\n",
      "2    Mike     90     A\n",
      "3    Anna     65     D\n",
      "4   David     78     C\n",
      "5   Emily     88     B\n",
      "6   Chris     92     A\n",
      "7  Sophia     55     D\n",
      "Number of Students per Grade:\n",
      " Grade\n",
      "B    2\n",
      "C    2\n",
      "A    2\n",
      "D    2\n",
      "Name: count, dtype: int64\n",
      "0.99\n"
     ]
    }
   ],
   "source": [
    "# Analyzing Student Grades\n",
    "\n",
    "data = {\n",
    "    'Student': ['John', 'Sara', 'Mike', 'Anna', 'David', 'Emily', 'Chris', 'Sophia'],\n",
    "    'Subject': ['Math', 'Science', 'Math', 'Science', 'Math', 'Science', 'Math', 'Science'],\n",
    "    'Marks': [85, 72, 90, 65, 78, 88, 92, 55],\n",
    "    'Attendance': [92, 80, 95, 70, 85, 90, 97, 60]\n",
    "}\n",
    "\n",
    "df = pd.DataFrame(data)\n",
    "avg_m = df.groupby('Subject')['Marks'].mean()\n",
    "print(avg_m)\n",
    "\n",
    "filtered_students = df[(df['Marks'] > 85) & (df['Attendance'] < 90)]\n",
    "print(\"Students with Marks >85 and Attendance <90%:\\n\", filtered_students)\n",
    "\n",
    "def assign_grade(marks):\n",
    "    if marks >= 90:\n",
    "        return 'A'\n",
    "    elif marks >= 80:\n",
    "        return 'B'\n",
    "    elif marks >= 70:\n",
    "        return 'C'\n",
    "    else:\n",
    "        return 'D'\n",
    "\n",
    "df['Grade'] = df['Marks'].apply(assign_grade)\n",
    "print(\"DataFrame with Grade:\\n\", df[['Student', 'Marks', 'Grade']])\n",
    "\n",
    "grade_counts = df['Grade'].value_counts()\n",
    "print(\"Number of Students per Grade:\\n\", grade_counts)\n",
    "\n",
    "correlation = df['Marks'].corr(df['Attendance'])\n",
    "print(\"{:.2f}\".format(correlation))"
   ]
  },
  {
   "cell_type": "code",
   "execution_count": null,
   "id": "ea09445e",
   "metadata": {},
   "outputs": [],
   "source": []
  }
 ],
 "metadata": {
  "kernelspec": {
   "display_name": "Python 3 (ipykernel)",
   "language": "python",
   "name": "python3"
  },
  "language_info": {
   "codemirror_mode": {
    "name": "ipython",
    "version": 3
   },
   "file_extension": ".py",
   "mimetype": "text/x-python",
   "name": "python",
   "nbconvert_exporter": "python",
   "pygments_lexer": "ipython3",
   "version": "3.11.5"
  }
 },
 "nbformat": 4,
 "nbformat_minor": 5
}

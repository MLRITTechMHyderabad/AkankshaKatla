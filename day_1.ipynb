{
 "cells": [
  {
   "cell_type": "code",
   "execution_count": 11,
   "id": "737d7254",
   "metadata": {},
   "outputs": [
    {
     "name": "stdout",
     "output_type": "stream",
     "text": [
      "[1, 4, 7]\n",
      "[2, 5, 8]\n",
      "[3, 6, 9]\n"
     ]
    }
   ],
   "source": [
    "# transpose of a matrix\n",
    "\n",
    "l = [[1,2,3],[4,5,6],[7,8,9]]\n",
    "res = [[0,0,0],[0,0,0],[0,0,0]]\n",
    "for i in range(len(l)):\n",
    "    for j in range(len(l[0])):\n",
    "        res[j][i] = l[i][j]\n",
    "for i in res:\n",
    "    print(i)"
   ]
  },
  {
   "cell_type": "code",
   "execution_count": 12,
   "id": "d8dbebd9",
   "metadata": {},
   "outputs": [
    {
     "name": "stdout",
     "output_type": "stream",
     "text": [
      "max: 8  min: 1\n"
     ]
    }
   ],
   "source": [
    "# max and min in a 2D array\n",
    "\n",
    "l = [[1,2,3],[3,4,5],[6,7,8]]\n",
    "maxx = []\n",
    "minn = []\n",
    "for i in l:\n",
    "    maxx.append(max(i))\n",
    "    minn.append(min(i))\n",
    "new_lst = maxx + minn\n",
    "n = len(new_lst)\n",
    "for i in range(n):\n",
    "    for j in range(n - i - 1):\n",
    "        if new_lst[j] > new_lst[j + 1]:\n",
    "            new_lst[j], new_lst[j + 1] = new_lst[j + 1], new_lst[j]\n",
    "print(\"max:\", new_lst[-1],\" min:\",new_lst[0])"
   ]
  },
  {
   "cell_type": "code",
   "execution_count": 2,
   "id": "0eae6c21",
   "metadata": {},
   "outputs": [
    {
     "name": "stdout",
     "output_type": "stream",
     "text": [
      "{'name': ['akanksha', 'vishwa'], 'age': 22, 'location': ['hyd', 'jgl'], 'gender': 'male', 'dep': 'cse'}\n"
     ]
    }
   ],
   "source": [
    "# merge two dict\n",
    "\n",
    "d1 = {\"name\":\"akanksha\",\"age\":22,\"location\":\"hyd\"}\n",
    "d2 = {\"name\":\"vishwa\",\"location\":\"jgl\",\"gender\":\"male\",\"dep\":\"cse\"}\n",
    "merge_d = {}\n",
    "for k in d1:\n",
    "    merge_d[k] = d1[k]\n",
    "for k in d2:\n",
    "    if k in merge_d:\n",
    "        merge_d[k] = [merge_d[k], d2[k]]\n",
    "    else:\n",
    "        merge_d[k] = d2[k]\n",
    "\n",
    "print(merge_d)"
   ]
  },
  {
   "cell_type": "code",
   "execution_count": 13,
   "id": "348d201f",
   "metadata": {},
   "outputs": [
    {
     "name": "stdout",
     "output_type": "stream",
     "text": [
      "{1: 2, 2: 4, 3: 3, 4: 2, 6: 2, 7: 3, 5: 2, 8: 1, 9: 1, 10: 1}\n"
     ]
    }
   ],
   "source": [
    "# frequency of numbers and stores in a dictionary\n",
    "\n",
    "l = [1,2,2,3,4,2,1,3,4,6,7,5,7,8,9,7,10,2,3,5,6]\n",
    "dic = {}\n",
    "for i in l:\n",
    "    if i in dic:\n",
    "        dic[i] += 1\n",
    "    else:\n",
    "        dic[i] = 1\n",
    "print(dic)"
   ]
  },
  {
   "cell_type": "code",
   "execution_count": null,
   "id": "c129a857",
   "metadata": {},
   "outputs": [],
   "source": []
  },
  {
   "cell_type": "code",
   "execution_count": 14,
   "id": "9bb74a17",
   "metadata": {},
   "outputs": [
    {
     "name": "stdout",
     "output_type": "stream",
     "text": [
      "2\n",
      "1 2 1 2\n",
      "1 2 1 2\n",
      "It's a draw\n"
     ]
    }
   ],
   "source": [
    "# dice_problem\n",
    "\n",
    "dice1 = [1,2,3,4,5,6]\n",
    "dice2 = [1,2,3,4,5,6]\n",
    "l = []\n",
    "for i in dice1:\n",
    "    for j in dice2:\n",
    "        l.append((i,j))\n",
    "        \n",
    "dic = {}\n",
    "for i in range(2,13):\n",
    "    c = 0\n",
    "    for j in l:\n",
    "        if i == sum(j):\n",
    "            c += 1\n",
    "    dic[str(i)] = c/len(l)\n",
    "    \n",
    "rounds = int(input())  # Number of Rounds\n",
    "p1_wins = 0\n",
    "p2_wins = 0\n",
    "\n",
    "def get_probability(sum_val):\n",
    "    return dic[str(sum_val)]\n",
    "\n",
    "for i in range(rounds):\n",
    "    p1_d1, p1_d2, p2_d1, p2_d2 = map(int, input().split())\n",
    "    \n",
    "    p1_sum = p1_d1 + p1_d2\n",
    "    p2_sum = p2_d1 + p2_d2\n",
    "    \n",
    "    p1_prob = get_probability(p1_sum)\n",
    "    p2_prob = get_probability(p2_sum)\n",
    "    \n",
    "    # Less Probable Sum Wins\n",
    "    if p1_prob < p2_prob:\n",
    "        p1_wins += 1\n",
    "    elif p2_prob < p1_prob:\n",
    "        p2_wins += 1\n",
    "if p1_wins > p2_wins:\n",
    "    print(\"Player 1 wins\")\n",
    "elif p2_wins > p1_wins:\n",
    "    print(\"Player 2 wins\")\n",
    "else:\n",
    "    print(\"It's a draw\")\n",
    "\n",
    "            "
   ]
  },
  {
   "cell_type": "code",
   "execution_count": null,
   "id": "e2e92df9",
   "metadata": {},
   "outputs": [],
   "source": []
  }
 ],
 "metadata": {
  "kernelspec": {
   "display_name": "Python 3 (ipykernel)",
   "language": "python",
   "name": "python3"
  },
  "language_info": {
   "codemirror_mode": {
    "name": "ipython",
    "version": 3
   },
   "file_extension": ".py",
   "mimetype": "text/x-python",
   "name": "python",
   "nbconvert_exporter": "python",
   "pygments_lexer": "ipython3",
   "version": "3.11.5"
  }
 },
 "nbformat": 4,
 "nbformat_minor": 5
}

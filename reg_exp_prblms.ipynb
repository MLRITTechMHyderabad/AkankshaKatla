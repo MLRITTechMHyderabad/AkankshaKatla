{
 "cells": [
  {
   "cell_type": "code",
   "execution_count": 2,
   "id": "3ffbf1c3",
   "metadata": {},
   "outputs": [
    {
     "name": "stdout",
     "output_type": "stream",
     "text": [
      "['support@example.', 'john.doe123@company.', 'invalid-email@com.', 'jane_doe@domain.']\n"
     ]
    }
   ],
   "source": [
    "import re\n",
    "\n",
    "#Extract Valid Email Addresses\n",
    "text = \"Contact us at support@example.com, john.doe123@company.org, or invalid-email@com. Also, try jane_doe@domain.co.uk.\"\n",
    "\n",
    "pattern = re.compile(r'[a-zA-Z0-9]+[a-zA-Z0-9._-]*@[a-zA-Z0-9]+-?+[.a-z]')\n",
    "\n",
    "m = re.findall(pattern, text)\n",
    "print(m)"
   ]
  },
  {
   "cell_type": "code",
   "execution_count": 3,
   "id": "7b1ac676",
   "metadata": {},
   "outputs": [
    {
     "name": "stdout",
     "output_type": "stream",
     "text": [
      "['#Python', '#coding', '#100DaysOfCode', '#Regex_Challenge']\n"
     ]
    }
   ],
   "source": [
    "# Extract Hashtags from a Tweet\n",
    "tweet = \"Learning #Python is fun! #coding #100DaysOfCode #Regex_Challenge\"\n",
    "pattern = re.findall('#\\w+',tweet)\n",
    "print(pattern)"
   ]
  },
  {
   "cell_type": "code",
   "execution_count": 5,
   "id": "dcd0178f",
   "metadata": {},
   "outputs": [
    {
     "name": "stdout",
     "output_type": "stream",
     "text": [
      "WeakPass -> Invalid\n",
      "Str0ng@Pass -> Valid\n",
      "NoSpecial1 -> Invalid\n",
      "short!1 -> Invalid\n",
      "Secure#123 -> Valid\n"
     ]
    }
   ],
   "source": [
    "# : Validate a Strong Password\n",
    "passwords = [\"WeakPass\", \"Str0ng@Pass\", \"NoSpecial1\", \"short!1\", \"Secure#123\"]\n",
    "\n",
    "for p in passwords:\n",
    "    if (len(p) >= 8 and\n",
    "        re.search(r'[A-Z]', p) and\n",
    "        re.search(r'[a-z]', p) and\n",
    "        re.search(r'\\d', p) and\n",
    "        re.search(r'[@$!%*?&#]', p)):\n",
    "        print(f\"{p} -> Valid\")\n",
    "    else:\n",
    "        print(f\"{p} -> Invalid\")"
   ]
  },
  {
   "cell_type": "code",
   "execution_count": null,
   "id": "56cbc943",
   "metadata": {},
   "outputs": [],
   "source": []
  },
  {
   "cell_type": "code",
   "execution_count": null,
   "id": "6d14b08f",
   "metadata": {},
   "outputs": [],
   "source": []
  }
 ],
 "metadata": {
  "kernelspec": {
   "display_name": "Python 3 (ipykernel)",
   "language": "python",
   "name": "python3"
  },
  "language_info": {
   "codemirror_mode": {
    "name": "ipython",
    "version": 3
   },
   "file_extension": ".py",
   "mimetype": "text/x-python",
   "name": "python",
   "nbconvert_exporter": "python",
   "pygments_lexer": "ipython3",
   "version": "3.11.5"
  }
 },
 "nbformat": 4,
 "nbformat_minor": 5
}
